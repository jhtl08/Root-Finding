{
 "cells": [
  {
   "cell_type": "markdown",
   "metadata": {},
   "source": [
    "<div style=\"text-align: center; font-family: 'Times New Roman', Times, serif; font-size: 21pt; margin-bottom: 0.3em;\"><b> Computational Task 1: Root-Finding</div>\n",
    "<div style=\"text-align: center; font-family: 'Times New Roman', Times, serif; font-size: 12.5pt;\">Kyle Aaron Coloma</div>\n",
    "<div style=\"text-align: center; font-family: 'Times New Roman', Times, serif; font-size: 12.5pt;\">Jason Harvey Lorenzo</div>"
   ]
  },
  {
   "cell_type": "markdown",
   "metadata": {},
   "source": [
    "Outline of Root Finding Techniques\n"
   ]
  },
  {
   "cell_type": "markdown",
   "metadata": {},
   "source": [
    "##\n",
    "<div style=\"text-align: left; font-family: 'Times New Roman', Times, serif; font-size: 21pt\">\n",
    "<b> \n",
    "Error Analysis\n",
    "</b>\n",
    "</div>"
   ]
  },
  {
   "cell_type": "code",
   "execution_count": 5,
   "metadata": {},
   "outputs": [
    {
     "data": {
      "text/plain": [
       "tabulize (generic function with 2 methods)"
      ]
     },
     "metadata": {},
     "output_type": "display_data"
    }
   ],
   "source": [
    "#Function that computes error and tabulizes x, f(x), approximate error, and true error (if true root is available) per iteration\n",
    "using DataFrames\n",
    "\n",
    "function tabulize(x_values,y_values,trueroot=nothing)\n",
    "    iterations = length(x_values)\n",
    "    approx_errors = Float64[NaN]\n",
    "    true_errors=Float64[]\n",
    "    ea=0.\n",
    "    i=2\n",
    "\n",
    "    while i<iterations+1\n",
    "        ea = abs((x_values[i]-x_values[i-1])/x_values[i])*100\n",
    "        push!(approx_errors, ea)\n",
    "        i+=1\n",
    "    end\n",
    "\n",
    "    if trueroot==nothing\n",
    "        df = DataFrame(x=x_values, f_x=y_values, Approximate_error = approx_errors)\n",
    "    else\n",
    "        et=0.\n",
    "        i=1\n",
    "        while i<iterations\n",
    "            et = abs((trueroot - x_values[i])/trueroot)*100\n",
    "            push!(true_errors, ea)\n",
    "            i+=1\n",
    "        end\n",
    "        df = DataFrame(x=x_values, f_x=y_values, Approximate_error = approx_errors, True_error = true_errors)\n",
    "    end\n",
    "    return df\n",
    "end"
   ]
  },
  {
   "cell_type": "markdown",
   "metadata": {},
   "source": [
    "---\n",
    "## \n",
    "<div style=\"text-align: left; font-family: 'Times New Roman', Times, serif; font-size: 21pt\">\n",
    "<b> \n",
    "Fixed Point Iteration \n",
    "</b>\n",
    "</div>"
   ]
  },
  {
   "cell_type": "markdown",
   "metadata": {},
   "source": [
    "The fixed-point iteration method (also known as one-point iteration or successive substitution) is an iterative numerical technique used to find the fixed points (also known as roots or solutions) of a given function. In other words, it is a method for finding the values of $x$ for which $f(x) = x$.\n",
    "<br></br>\n",
    "Given an equation of the form:\n",
    "\n",
    "$$f(x)=0$$\n",
    "\n",
    "where $f(x)$ is a continous function, the fixed-point iteration method seeks to find an approximate solution x such that $f(x)=0$. \n",
    "\n",
    "<br></br>\n",
    "\n",
    "One way of using this method is by transforming the given function algebraically into the form \n",
    "\n",
    "$$x=g(x)$$\n",
    "\n",
    "Then stating an initial guess $x_0$ and compute, in general:\n",
    "\n",
    "$$x_{n+1}=g(x_n)$$\n",
    "\n",
    "$g(x)$ is a transformation of the orginal equation such that $g(x)=x$ corresponds to the solution $f(x)=0$. The choice of $g(x)$ is critical for the convergence of the method.\n",
    "\n",
    "<br></br>\n",
    "\n",
    "The iteration process, where $x_{n+1}=g(x_n)$, is convergent if the corresponding sequence of $x_n$ is convergent. The absolute difference between consecutive iterations should be less than the tolerance value:\n",
    "\n",
    "$$|x_{n+1}-x_n|<tolerance$$\n",
    "\n",
    "The tolerance denotes how close the compared values are from one another, and is the basis for convergence.\n",
    "\n",
    "The final value of $x$ is the approximate value of the root for the equation $f(x)=0$\n"
   ]
  },
  {
   "cell_type": "markdown",
   "metadata": {},
   "source": [
    "---\n",
    "<b> Algorithm for Fixed Point Iteration </b>\n",
    "\n",
    "1. Make an initial guess.\n",
    "\n",
    "2. Compute for $x_{n+1}=g(x_n)$\n",
    "\n",
    "3. Make the following evaluation:\n",
    "\n",
    "    (a) If the absolute difference between $x_{n+1}$ and $x_n$ is less than the tolerance value, stop and the final value of $x$ is the approximate root of equation $f(x)=0$.\n",
    "\n",
    "    (b) If the absolute difference between $x_{n+1}$ and $x_n$ is greater than or equal to the tolerance value, set $x_n=x_{n+1}$ return to step 2.\n",
    "---"
   ]
  },
  {
   "cell_type": "markdown",
   "metadata": {},
   "source": [
    "<b> Julia Code for Fixed-Point Method </b>\n",
    "\n",
    "The function code implements the algorithm for Fixed-Point Method, with an additional input of the maximum number of iterations. The maximum number of iterations is crucial to limit the number of iterations and prevent the code from running indefinitely when the function fails to converge."
   ]
  },
  {
   "cell_type": "code",
   "execution_count": 107,
   "metadata": {},
   "outputs": [
    {
     "data": {
      "text/plain": [
       "fixedpt (generic function with 1 method)"
      ]
     },
     "metadata": {},
     "output_type": "display_data"
    }
   ],
   "source": [
    "## Fixed-Point Iteration Function\n",
    "# Fixed-Point Iteration function\n",
    "function fixedpt(g::Function,pzero,eps,N)\n",
    "    n=1\n",
    "    x=0.\n",
    "    x_values = Float64[pzero]\n",
    "    while n<N\n",
    "        pone=g(pzero)\n",
    "        if abs(pone-pzero)<eps\n",
    "            push!(x_values, pone)\n",
    "            println(\"The final value of x is $pone and the iteration number is $n\")\n",
    "            return x_values\n",
    "        end\n",
    "        push!(x_values, pone)\n",
    "        pzero=pone\n",
    "        n=n+1\n",
    "    end\n",
    "    println(\"Did not converge. The last estimate is p=$pzero.\")\n",
    "    return x_values\n",
    "end"
   ]
  },
  {
   "cell_type": "markdown",
   "metadata": {},
   "source": [
    "---\n",
    "<b> PROBLEM ONE. </b> FIXED-POINT METHOD\n",
    "\n",
    "INSERT PROBLEM\n",
    "\n",
    "<b> SOLUTION FOR PROBLEM ONE </b>\n",
    "\n",
    "---"
   ]
  },
  {
   "cell_type": "markdown",
   "metadata": {},
   "source": [
    "<b> ABOUT THE CODE. </b> FIXED-POINT METHOD IMPLEMENTATION FOR PROBLEM ONE\n",
    "\n",
    "INSERT EXPLANATION"
   ]
  },
  {
   "cell_type": "code",
   "execution_count": null,
   "metadata": {},
   "outputs": [],
   "source": [
    "#Input parameters and calling Fixed-Point iteration function\n",
    "\n",
    "#Function-related\n",
    "g(x)= ℯ^-x\n",
    "pzero = 0\n",
    "tol3 = 10^(-4.)\n",
    "N3 = 30\n",
    "\n",
    "#Plotting-related\n",
    "f3(x) = x\n",
    "max_x3 = 1.2\n",
    "min_x3 = -0.2\n",
    "length_x3 = 1000\n",
    "max_y3 = 1.5\n",
    "min_y3 = -0.5\n",
    "\n",
    "x_values3=Float64[]\n",
    "x_values3=fixedpt(g,pzero,tol3,N3);"
   ]
  },
  {
   "cell_type": "code",
   "execution_count": null,
   "metadata": {},
   "outputs": [],
   "source": [
    "#Table of x, f(x), approximate error, and true error (if true root is available) for every iteration\n",
    "y_values3=Float64[]\n",
    "\n",
    "for x in x_values3\n",
    "    push!(y_values3, f3(x))\n",
    "end\n",
    "\n",
    "tabulize(x_values3, y_values3)"
   ]
  },
  {
   "cell_type": "markdown",
   "metadata": {},
   "source": [
    "---\n",
    "\n",
    "<b> ABOUT THE CODE. </b> PLOTTING THE RESULT FROM PROBLEM 1\n",
    "\n",
    "INSERT EXPLANATION"
   ]
  },
  {
   "cell_type": "code",
   "execution_count": null,
   "metadata": {},
   "outputs": [],
   "source": [
    "#plotting the given f(x) and visualization of root-finding\n",
    "\n",
    "using Plots\n",
    "\n",
    "array_size3=length(x_values3)\n",
    "y_zeros3 = zeros(array_size3)\n",
    "\n",
    "x = range(min_x3, max_x3, length=length_x3)\n",
    "y = f3.(x)\n",
    "y1= g.(x)\n",
    "\n",
    "Plots.plot(x, y, ylims=(min_y3, max_y3), legend=true, grid=true, xlabel=\"x\", ylabel=\"y\", color=:black, label=\"f(x)\") #Plots f(x)\n",
    "plot!(x, y1, ylims=(min_y3, max_y3), legend=true, grid=true, xlabel=\"x\", ylabel=\"y\", label=\"g(x)\") #Plots g(x)\n",
    "hline!([0], color=:black, linestyle=:dash, label=\"y=0\") #Draws horizontal line at y=0 (x-axis)\n",
    "\n",
    "scatter!(x_values3, y_values3, label=\"Iteration Points\", markersize=3, markercolor=:red)\n",
    "\n",
    "i=1\n",
    "while i<array_size3\n",
    "    plot!([x_values3[i],x_values3[i]], [y_values3[i],g(x_values3[i])], label=false, linestyle=:solid, linewidth=0.4,color=:gray)\n",
    "    quiver!([x_values3[i]], [g(x_values3[i])], quiver=([(x_values3[i+1] - x_values3[i])], [y_values3[i+1]-g(x_values3[i])]),label=false, linewidth=0.7, legend=false, arrow=true, linestyle=:dash)\n",
    "    i+=1\n",
    "end\n",
    "\n",
    "current()"
   ]
  },
  {
   "cell_type": "markdown",
   "metadata": {},
   "source": [
    "---\n",
    "## \n",
    "<div style=\"text-align: left; font-family: 'Times New Roman', Times, serif; font-size: 21pt\">\n",
    "<b> \n",
    "Bisection Method\n",
    "</b>\n",
    "</div>"
   ]
  },
  {
   "cell_type": "markdown",
   "metadata": {},
   "source": [
    "The Bisection method (also known as binary chopping, interval halving, or Bolzao's method) is a type of incremental search method in which the interval is always divided in half. If a function chnages sign overn an intervalm the function value at the midpoint is evaluated. The location of the root is then determined as lying at the midpoint of the subinterval within which the sign change occurs. \n"
   ]
  },
  {
   "cell_type": "markdown",
   "metadata": {},
   "source": [
    "---\n",
    "\n",
    "<b> Algorithm fo Bisection Method </b>\n",
    "\n",
    "1. Select a lower and upper guesses for the root such that the function changes sign over the interval. This cna be checked by ensuring that $f(x_l)f(x_u)<0$.\n",
    "\n",
    "2. An estimate of the root $x_r$ is determined by $x_r=\\frac{(x_l+x_u)}{2}$\n",
    "\n",
    "3. Make the folllowing evaluation:\n",
    "\n",
    "    (a) If $f(x_l)f(x_u) < 0$, the root lies in the lower subinterval. Therefore, set $x_u = x_r$, and return to step 2. \n",
    "\n",
    "    (b) If $f(x_l)f(x_u) > 0$, the root lies in the lower subinterval. Therefore, set $x_l = x_r$, and return to step 2. \n",
    "    \n",
    "    (c) If $f(x_r) = 0$ or If the absolute difference between $x_l-x_u$ is less than the tolerance value, the root equals $x$; stop.\n",
    "\n",
    "---"
   ]
  },
  {
   "cell_type": "markdown",
   "metadata": {},
   "source": [
    "<b> Julia Code for Bisection Method </b>\n",
    "\n",
    "The function code implements the algorithm for Bisection Method, with an additional input of the maximum number of iterations. The maximum number of iterations is crucial to limit the number of iterations and prevent the code from running indefinitely when the function fails to converge."
   ]
  },
  {
   "cell_type": "code",
   "execution_count": null,
   "metadata": {},
   "outputs": [],
   "source": [
    "## Bisection Method Function\n",
    "\n",
    "function bisection(f::Function, a, b, eps, N)\n",
    "    n = 1\n",
    "    p = 0.0 \n",
    "\n",
    "    p_values = Float64[]\n",
    "\n",
    "    while n <= N\n",
    "        p = a + (b - a) / 2\n",
    "        push!(p_values, p)\n",
    "\n",
    "        if f(p) == 0 || abs(a - b) < eps\n",
    "            println(\"x is $p and the iteration number is $n\")\n",
    "            return p_values\n",
    "        end\n",
    "\n",
    "        if f(a) * f(p) < 0\n",
    "            b = p\n",
    "        else\n",
    "            a = p\n",
    "        end\n",
    "        n += 1\n",
    "    end\n",
    "\n",
    "    y = f(p)\n",
    "    println(\"Method did not converge. The last iteration gives $p with function value $y\")\n",
    "    return p_values\n",
    "end"
   ]
  },
  {
   "cell_type": "markdown",
   "metadata": {},
   "source": [
    "---\n",
    "\n",
    "<b> PROBLEM TWO. </b> BISECTION METHOD\n",
    "\n",
    "INSERT PROBLEM\n",
    "\n",
    "<b> SOLUTION FOR PROBLEM TWO </b> \n",
    "\n",
    "---"
   ]
  },
  {
   "cell_type": "markdown",
   "metadata": {},
   "source": [
    "<b> ABOUT THE CODE. </b> BISECTION METHOD IMPLEMENTATION FOR PROBLEM TWO\n",
    "\n",
    "INSERT EXPLANATION"
   ]
  },
  {
   "cell_type": "code",
   "execution_count": null,
   "metadata": {},
   "outputs": [],
   "source": [
    "#Input parameters and calling Fixed-Point iteration function\n",
    "\n",
    "#Function-related\n",
    "f4(x) = x^5+2x^3-5x-2\n",
    "a = 0\n",
    "b = 2\n",
    "tol4 = 10^(-4.)\n",
    "N4 = 20\n",
    "\n",
    "#Plotting-related\n",
    "max_x4 = 0.9\n",
    "min_x4 = 1.6\n",
    "length_x4 = 1000\n",
    "max_y4 = 5\n",
    "min_y4 = -5\n",
    "\n",
    "x_values4=Float64[]\n",
    "x_values4=bisection(f4,a,b,tol3,N4);"
   ]
  },
  {
   "cell_type": "code",
   "execution_count": null,
   "metadata": {},
   "outputs": [],
   "source": [
    "#Table of x, f(x), approximate error, and true error (if true root is available) for every iteration\n",
    "y_values4=Float64[]\n",
    "\n",
    "for x in x_values4\n",
    "    push!(y_values4, f4(x))\n",
    "end\n",
    "\n",
    "tabulize(x_values4, y_values4)"
   ]
  },
  {
   "cell_type": "markdown",
   "metadata": {},
   "source": [
    "---\n",
    "\n",
    "<b> ABOUT THE CODE. </b> PLOTTING THE RESULT FROM PROBLEM 2\n",
    "\n",
    "INSERT EXPLANATION"
   ]
  },
  {
   "cell_type": "code",
   "execution_count": null,
   "metadata": {},
   "outputs": [],
   "source": [
    "using Plots\n",
    "f4(x)= (x)^5+2(x)^3-5(x)-2\n",
    "\n",
    "array_size4=length(x_values4)\n",
    "y_zeros4 = zeros(array_size4)\n",
    "\n",
    "x = range(min_x4, max_x4, length=length_x4)\n",
    "y = f4.(x)\n",
    "\n",
    "Plots.plot(x, y, ylims=(min_y4, max_y4), color=:blue, legend=false, grid=true, xlabel=\"x\", ylabel=\"f(x)\") #Plots f(x)\n",
    "hline!([0], color=:black, linestyle=:dash, label=\"y=0\") #Draws horizontal line at y=0 (x-axis)\n",
    "\n",
    "scatter!(x_values4, y_values4, label=\"Iteration Points\", markersize=5, markercolor=:red)\n",
    "scatter!([x_values4[1],x_values4[2]], [y_values4[1],y_values4[2]], label=false, color=:green, markersize=4) #Marks initial guesses x0,x1 as green\n",
    "\n",
    "i=3\n",
    "while i<array_size4\n",
    "    quiver!([x_values4[i-2]], [y_values4[i-2]], quiver=([(x_values4[i] - x_values4[i-2])], [0]),label=false, color=:black, linewidth=0.7, legend=false, arrow=true, linestyle=:dash)\n",
    "    quiver!([x_values4[i-1]], [y_values4[i-1]], quiver=([(x_values4[i] - x_values4[i-1])], [0]),label=false, color=:black, linewidth=0.7, legend=false, arrow=true, linestyle=:dash)\n",
    "\n",
    "    i+=1\n",
    "end\n",
    "\n",
    "i=3\n",
    "while i<array_size4\n",
    "    plot!([x_values4[i],x_values4[i]], [y_values4[i-2],y_values4[i-1]], label=false, linestyle=:solid, linewidth=1)\n",
    "    i+=1\n",
    "end\n",
    "\n",
    "current()"
   ]
  },
  {
   "cell_type": "markdown",
   "metadata": {},
   "source": [
    "---\n",
    "## \n",
    "<div style=\"text-align: left; font-family: 'Times New Roman', Times, serif; font-size: 21pt\">\n",
    "<b> \n",
    "Newton-Raphson Method\n",
    "</b>\n",
    "</div>"
   ]
  },
  {
   "cell_type": "markdown",
   "metadata": {},
   "source": [
    "Newton-Raphson's Method, is another iteration method for solving $f(x)=0$, where $f$ is assumed to have a continous derivative $f'$. The method is commonly used because of its simplicity and great speed. The underlying idea is that we approximate the graph of $f$ by suitable tangents. Using an approximate value of $x_0$ obtained from the graph $f$, we let $x_1$ be the point of intersection of the x-axis and thangent to the curve of $f$ at $x_0$.\n",
    "\n"
   ]
  },
  {
   "cell_type": "markdown",
   "metadata": {},
   "source": [
    "---\n",
    "\n",
    "<b> Algorithm for Newton-Raphson Method </b>\n",
    "\n",
    "1. Calculate the derivative $f'(x)$.\n",
    "\n",
    "2. Make an initial guess.\n",
    "\n",
    "3. Compute for $x_{n+1}=x_n-\\frac{f(x_n)}{f'(x_n)}$\n",
    "\n",
    "4. Make the following evaluation\n",
    "\n",
    "    (a) If $f(x) = 0$ or If the absolute difference between $x_{n+1}$ and $x_n$ is less than the tolerance value, stop and the final value of $x$ is the approximate root.\n",
    "\n",
    "    (b) Otherwise, set $x_n = x_{n+1}$ return to step 3.\n",
    "    \n",
    "---"
   ]
  },
  {
   "cell_type": "markdown",
   "metadata": {},
   "source": [
    "<b> Julia Code for Newton-Raphson Method </b>\n",
    "\n",
    "The function code implements the algorithm for Newton-Raphson Method, with an additional input of the maximum number of iterations. The maximum number of iterations is crucial to limit the number of iterations and prevent the code from running indefinitely when the function fails to converge."
   ]
  },
  {
   "cell_type": "code",
   "execution_count": null,
   "metadata": {},
   "outputs": [],
   "source": [
    "#Newton-Raphson method function\n",
    "function newtonRaphson(f::Function,fprime::Function,xin,tol,N)\n",
    "    n=1\n",
    "    x=0.\n",
    "    x_values = Float64[xin]\n",
    "    while n<=N\n",
    "        x=xin-f(xin)/fprime(xin)\n",
    "        if f(x)==0 || abs(x-xin)<tol\n",
    "            println(\"x is $x and the iteration number is $n\")\n",
    "            return x_values\n",
    "        end\n",
    "        push!(x_values,x)\n",
    "        xin=x\n",
    "        n=n+1\n",
    "    end\n",
    "    y=f(x)\n",
    "    println(\"Method did not converge. The last iteration gives $x with\n",
    "        function value $y\")\n",
    "    return x_values\n",
    "end\n",
    "\n",
    "\n"
   ]
  },
  {
   "cell_type": "markdown",
   "metadata": {},
   "source": [
    "---\n",
    "<b> PROBLEM THREE. </b> NEWTON-RAPHSON METHOD\n",
    "\n",
    "INSERT PROBLEM\n",
    "\n",
    "<b> SOLUTION FOR PROBLEM THREE </b> \n",
    "\n",
    "---"
   ]
  },
  {
   "cell_type": "markdown",
   "metadata": {},
   "source": [
    "<b> ABOUT THE CODE. </b> NEWTON-RAPHSON METHOD IMPLEMENTATION FOR PROBLEM THREE\n",
    "\n",
    "INSERT EXPLANATION"
   ]
  },
  {
   "cell_type": "code",
   "execution_count": null,
   "metadata": {},
   "outputs": [],
   "source": [
    "#Input parameters and calling Newton-Raphson method function\n",
    "\n",
    "#Function-related\n",
    "f(x) = x.^5 + 2*x.^3 - 5*x .- 2\n",
    "fprime(x) = 5x.^4+6x.^2-5\n",
    "xin = 1\n",
    "tol = 10^(-4.)\n",
    "N = 20\n",
    "\n",
    "#Plotting-related\n",
    "max_x = 1.7\n",
    "min_x = 0.9\n",
    "length_x = 1000\n",
    "max_y = 14\n",
    "min_y = -5\n",
    "\n",
    "x_values=Float64[]\n",
    "x_values=newtonRaphson(f,fprime,xin,tol,N);"
   ]
  },
  {
   "cell_type": "code",
   "execution_count": null,
   "metadata": {},
   "outputs": [],
   "source": [
    "#Table of x, f(x), approximate error, and true error (if true root is available) for every iteration\n",
    "y_values=Float64[]\n",
    "\n",
    "for x in x_values\n",
    "    push!(y_values, f(x))\n",
    "end\n",
    "\n",
    "tabulize(x_values, y_values)"
   ]
  },
  {
   "cell_type": "markdown",
   "metadata": {},
   "source": [
    "---\n",
    "<b> ABOUT THE CODE. </b> PLOTTING THE RESULT FROM PROBLEM THREE\n",
    "\n",
    "INSERT EXPLANATION\n",
    "\n",
    "Note increasing opacity and increasing slope as it converges"
   ]
  },
  {
   "cell_type": "code",
   "execution_count": null,
   "metadata": {},
   "outputs": [],
   "source": [
    "#plotting the given f(x) and visualization of root-finding\n",
    "\n",
    "using Plots\n",
    "\n",
    "array_size=length(x_values)\n",
    "y_zeros = zeros(array_size)\n",
    "\n",
    "x = range(min_x, max_x, length=length_x)\n",
    "y = f.(x)\n",
    "\n",
    "Plots.plot(x, y, ylims=(min_y, max_y), legend=false, grid=false, xlabel=\"x\", ylabel=\"f\", color=:black) #Plots f(x)\n",
    "hline!([0], color=:black, linestyle=:dash, label=\"y=0\") #Draws horizontal line at y=0 (x-axis)\n",
    "\n",
    "scatter!(x_values, y_zeros, label=false, color=:black, markersize=3) #Draws points of intersection of tangent lines and x-axis\n",
    "scatter!(x_values, y_values, label=false, color=:red, markersize=4) #Draws all (x, f(x)) algorithm passes by\n",
    "scatter!([x_values[1],x_values[1]], [y_values[1],0], label=false, color=:green, markersize=4) #Marks initial guess x0 as green\n",
    "\n",
    "# for x_point in x_values #Iterates to draw each tangent line for every x passed by\n",
    "#     alpha = opacity_control/array_size\n",
    "#     tangent_line(x) = fprime(x_point) * (x - x_point) + f(x_point)\n",
    "#     plot!(x, tangent_line, label=false, linestyle=:solid, color=:red, alpha=alpha)\n",
    "# end\n",
    "\n",
    "i=2\n",
    "while i<array_size2\n",
    "    quiver!([x_values[i-1]], [y_values[i-1]], quiver=([(x_values[i] - x_values[i-1])], [-y_values[i-1]]),label=false, linewidth=2, legend=false, arrow=true, linestyle=:solid)\n",
    "    i+=1\n",
    "end\n",
    "\n",
    "for x_point in x_values #Iterates to draw each line from (x,f(x)) to (x,0)\n",
    "    plot!([x_point, x_point], [f(x_point), 0], label=nothing, linestyle=:dash, color=:black,alpha=0.6)\n",
    "end\n",
    "\n",
    "current()\n",
    "\n"
   ]
  },
  {
   "cell_type": "markdown",
   "metadata": {},
   "source": [
    "---\n",
    "##\n",
    "<div style=\"text-align: left; font-family: 'Times New Roman', Times, serif; font-size: 21pt\">\n",
    "<b> \n",
    "Secant Method\n",
    "</b>\n",
    "</div>"
   ]
  },
  {
   "cell_type": "markdown",
   "metadata": {},
   "source": [
    "The Secant Method is an iterative numerical algoritthm used for approximating the roots of a given nonlinear equation $f(x)=0$. Unlike the Newton-Raphson method, which requires knowledge of the derivative $f(x)$, the Secant Method does not rely on derivative inofrmation. Instead, it approximates the derivative using finite differences between function values at two successive points."
   ]
  },
  {
   "cell_type": "markdown",
   "metadata": {},
   "source": [
    "---\n",
    "<b> Algorithm for Secant Method </b>\n",
    "\n",
    "1. insert\n",
    "\n",
    "2. insert\n",
    "\n",
    "3. insert\n",
    "\n",
    "    (a) insert\n",
    "\n",
    "    (b) insert\n",
    "    \n",
    "    (c) insert\n",
    "\n",
    "---"
   ]
  },
  {
   "cell_type": "markdown",
   "metadata": {},
   "source": [
    "<b> Julia Code for Secant Method </b>\n",
    "\n",
    "The function code implements the algorithm for Secant Method, with an additional input of the maximum number of iterations.  The maximum number of iterations is crucial to limit the number of iterations and prevent the code from running indefinitely when the function fails to converge."
   ]
  },
  {
   "cell_type": "code",
   "execution_count": 132,
   "metadata": {},
   "outputs": [
    {
     "data": {
      "text/plain": [
       "secant (generic function with 1 method)"
      ]
     },
     "metadata": {},
     "output_type": "display_data"
    }
   ],
   "source": [
    "#Secant method function\n",
    "\n",
    "function secant(f::Function,xzero,xone,tol,N)\n",
    "    n=1\n",
    "    x=0.\n",
    "    x_values = Float64[xzero,xone]\n",
    "    while n<=N\n",
    "        x=xone-f(xone)*(xone-xzero)/(f(xone)-f(xzero))\n",
    "        if f(x)==0 || abs(x-xone)<tol\n",
    "            println(\"x is $x and the iteration number is $n\")\n",
    "            return x_values\n",
    "        end\n",
    "        push!(x_values,x)\n",
    "        xzero=xone\n",
    "        xone=x\n",
    "        n=n+1\n",
    "    end\n",
    "    y=f(x)\n",
    "    println(\"Method did not converge. The last iteration gives xone with\n",
    "        function value $y\")\n",
    "    return x_values\n",
    "end\n"
   ]
  },
  {
   "cell_type": "markdown",
   "metadata": {},
   "source": [
    "---\n",
    "<b> PROBLEM FOUR. </b> SECANT METHOD\n",
    "\n",
    "INSERT PROBLEM\n",
    "\n",
    "<b> SOLUTION FOR PROBLEM FOUR </b> \n",
    "\n",
    "---"
   ]
  },
  {
   "cell_type": "markdown",
   "metadata": {},
   "source": [
    "<b> ABOUT THE CODE. </b> SECANT METHOD IMPLEMENTATION FOR PROBLEM FOUR\n",
    "\n",
    "INSERT EXPLANATION"
   ]
  },
  {
   "cell_type": "code",
   "execution_count": null,
   "metadata": {},
   "outputs": [],
   "source": [
    "#Input parameters and calling Newton-Raphson method function\n",
    "\n",
    "#Function-related\n",
    "f2(x) = cos(x)-x\n",
    "xzero = 0.43\n",
    "xone = 1\n",
    "tol2 = 10^(-4.)\n",
    "N2 = 20\n",
    "\n",
    "#Plotting-related\n",
    "max_x2 = 1.1\n",
    "min_x2 = 0.32\n",
    "length_x2 = 1000\n",
    "max_y2 = 0.5\n",
    "min_y2 = -0.5\n",
    "\n",
    "x_values2=Float64[]\n",
    "x_values2=secant(f2,xzero,xone,tol2,N2);"
   ]
  },
  {
   "cell_type": "code",
   "execution_count": null,
   "metadata": {},
   "outputs": [],
   "source": [
    "#Table of x, f(x), approximate error, and true error (if true root is available) for every iteration\n",
    "y_values2=Float64[]\n",
    "\n",
    "for x in x_values2\n",
    "    push!(y_values2, f2(x))\n",
    "end\n",
    "\n",
    "tabulize(x_values2, y_values2)"
   ]
  },
  {
   "cell_type": "markdown",
   "metadata": {},
   "source": [
    "---\n",
    "<b> ABOUT THE CODE. </b> PLOTTING THE RESULT FROM PROBLEM FOUR\n",
    "\n",
    "INSERT EXPLANATION"
   ]
  },
  {
   "cell_type": "code",
   "execution_count": null,
   "metadata": {},
   "outputs": [],
   "source": [
    "#plotting the given f(x) and visualization of root-finding\n",
    "\n",
    "using Plots\n",
    "\n",
    "array_size2=length(x_values2)\n",
    "y_zeros2 = zeros(array_size2)\n",
    "\n",
    "x2 = range(min_x2, max_x2, length=length_x2)\n",
    "y2 = f2.(x2)\n",
    "\n",
    "\n",
    "Plots.plot(x2, y2, ylims=(min_y2, max_y2), legend=false, grid=false, xlabel=\"x\", ylabel=\"f\", color=:black) #Plots f(x)\n",
    "hline!([0], color=:black, linestyle=:dash, label=\"y=0\") #Draws horizontal line at y=0 (x-axis)\n",
    "\n",
    "scatter!(x_values2, y_zeros2, label=false, color=:black, markersize=3) #Draws points of intersection of tangent lines and x-axis\n",
    "scatter!(x_values2, y_values2, label=false, color=:red, markersize=4) #Draws all (x, f(x)) algorithm passes by\n",
    "scatter!([x_values2[1],x_values2[2]], [y_values2[1],y_values2[2]], label=false, color=:green, markersize=4) #Marks initial guesses x0,x1 as green\n",
    "\n",
    "i=2\n",
    "while i<array_size2\n",
    "    # secant_line(x) = ((f2(x_values2[i])-f2(x_values2[i-1]))/(x_values2[i]-x_values2[i-1])) * (x - x_values2[i-1]) + f2(x_values2[i-1])\n",
    "    # plot!(x2, secant_line, label=false, linestyle=:dash, color=:red, alpha=alpha)\n",
    "    plot!([x_values2[i],x_values2[i-1]], [y_values2[i],y_values2[i-1]], label=false, linestyle=:solid, linewidth=2,alpha=0.6)\n",
    "    i+=1\n",
    "end\n",
    "\n",
    "for x_point in x_values2 #Iterates to draw each line from (x,f(x)) to (x,0)\n",
    "    quiver!([x_point], [0], quiver=([0], [f2(x_point)]),label=false, color=:black, linewidth=1, legend=false, arrow=true, linestyle=:dash)\n",
    "end\n",
    "\n",
    "current()"
   ]
  }
 ],
 "metadata": {
  "kernelspec": {
   "display_name": "Julia 1.9.3",
   "language": "julia",
   "name": "julia-1.9"
  },
  "language_info": {
   "file_extension": ".jl",
   "mimetype": "application/julia",
   "name": "julia",
   "version": "1.9.3"
  },
  "orig_nbformat": 4
 },
 "nbformat": 4,
 "nbformat_minor": 2
}
